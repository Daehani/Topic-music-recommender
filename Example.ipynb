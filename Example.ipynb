{
 "cells": [
  {
   "cell_type": "code",
   "execution_count": 1,
   "metadata": {
    "collapsed": false
   },
   "outputs": [],
   "source": [
    "import numpy as np\n",
    "import pandas as pd\n",
    "import lda\n",
    "\n",
    "from TopicModeling import *\n",
    "from Recommender import *"
   ]
  },
  {
   "cell_type": "markdown",
   "metadata": {},
   "source": [
    "# 1. Data"
   ]
  },
  {
   "cell_type": "code",
   "execution_count": 2,
   "metadata": {
    "collapsed": false
   },
   "outputs": [],
   "source": [
    "listen_df = pd.read_csv('Lastfm_listening_data.csv', encoding = \"ISO-8859-1\")"
   ]
  },
  {
   "cell_type": "markdown",
   "metadata": {},
   "source": [
    "## Tag"
   ]
  },
  {
   "cell_type": "code",
   "execution_count": 3,
   "metadata": {
    "collapsed": false
   },
   "outputs": [],
   "source": [
    "track_df = itemDataframe(listen_df)\n",
    "lastfm_network = lastfmAuth()\n",
    "tracktag_dic = lastfmCrawlTag(track_df, lastfm_network)\n",
    "track, tag, tracktag_m = tracktagMatrix(tracktag_dic)"
   ]
  },
  {
   "cell_type": "code",
   "execution_count": 4,
   "metadata": {
    "collapsed": false
   },
   "outputs": [],
   "source": [
    "listen_df = listen_df[listen_df['track_id'].isin(track)]"
   ]
  },
  {
   "cell_type": "code",
   "execution_count": 5,
   "metadata": {
    "collapsed": false
   },
   "outputs": [
    {
     "data": {
      "text/html": [
       "<div>\n",
       "<table border=\"1\" class=\"dataframe\">\n",
       "  <thead>\n",
       "    <tr style=\"text-align: right;\">\n",
       "      <th></th>\n",
       "      <th>u_id</th>\n",
       "      <th>time</th>\n",
       "      <th>artist_id</th>\n",
       "      <th>artist_name</th>\n",
       "      <th>track_id</th>\n",
       "      <th>track_name</th>\n",
       "    </tr>\n",
       "  </thead>\n",
       "  <tbody>\n",
       "    <tr>\n",
       "      <th>0</th>\n",
       "      <td>user_000031</td>\n",
       "      <td>2009-05-01 10:37:23</td>\n",
       "      <td>9c1ff574-2ae4-4fea-881f-83293d0d5881</td>\n",
       "      <td>...And You Will Know Us By The Trail Of Dead</td>\n",
       "      <td>fe8be4ac-bbe8-48f3-bcac-25f45cb7d75e</td>\n",
       "      <td>Source Tags And Codes</td>\n",
       "    </tr>\n",
       "    <tr>\n",
       "      <th>1</th>\n",
       "      <td>user_000291</td>\n",
       "      <td>2009-05-01 09:02:09</td>\n",
       "      <td>6aa40207-fec8-43a7-991d-b872a42def05</td>\n",
       "      <td>Amy Macdonald</td>\n",
       "      <td>21bd2851-63a2-455b-800b-ea1aa4900a99</td>\n",
       "      <td>This Is The Life</td>\n",
       "    </tr>\n",
       "    <tr>\n",
       "      <th>2</th>\n",
       "      <td>user_000291</td>\n",
       "      <td>2009-05-01 09:05:37</td>\n",
       "      <td>83d91898-7763-47d7-b03b-b92132375c47</td>\n",
       "      <td>Pink Floyd</td>\n",
       "      <td>feecff58-8ee2-4a7f-ac23-dc8ce7925286</td>\n",
       "      <td>Wish You Were Here</td>\n",
       "    </tr>\n",
       "    <tr>\n",
       "      <th>3</th>\n",
       "      <td>user_000291</td>\n",
       "      <td>2009-05-01 09:12:12</td>\n",
       "      <td>83d91898-7763-47d7-b03b-b92132375c47</td>\n",
       "      <td>Pink Floyd</td>\n",
       "      <td>2d982a74-a21a-4714-9d81-405ede915053</td>\n",
       "      <td>Comfortably Numb</td>\n",
       "    </tr>\n",
       "    <tr>\n",
       "      <th>4</th>\n",
       "      <td>user_000291</td>\n",
       "      <td>2009-05-01 09:22:06</td>\n",
       "      <td>a3cb23fc-acd3-4ce0-8f36-1e5aa6a18432</td>\n",
       "      <td>U2</td>\n",
       "      <td>44135d7f-f5d6-4ef9-8518-ed11f5b705e7</td>\n",
       "      <td>One</td>\n",
       "    </tr>\n",
       "  </tbody>\n",
       "</table>\n",
       "</div>"
      ],
      "text/plain": [
       "          u_id                 time                             artist_id  \\\n",
       "0  user_000031  2009-05-01 10:37:23  9c1ff574-2ae4-4fea-881f-83293d0d5881   \n",
       "1  user_000291  2009-05-01 09:02:09  6aa40207-fec8-43a7-991d-b872a42def05   \n",
       "2  user_000291  2009-05-01 09:05:37  83d91898-7763-47d7-b03b-b92132375c47   \n",
       "3  user_000291  2009-05-01 09:12:12  83d91898-7763-47d7-b03b-b92132375c47   \n",
       "4  user_000291  2009-05-01 09:22:06  a3cb23fc-acd3-4ce0-8f36-1e5aa6a18432   \n",
       "\n",
       "                                    artist_name  \\\n",
       "0  ...And You Will Know Us By The Trail Of Dead   \n",
       "1                                 Amy Macdonald   \n",
       "2                                    Pink Floyd   \n",
       "3                                    Pink Floyd   \n",
       "4                                            U2   \n",
       "\n",
       "                               track_id             track_name  \n",
       "0  fe8be4ac-bbe8-48f3-bcac-25f45cb7d75e  Source Tags And Codes  \n",
       "1  21bd2851-63a2-455b-800b-ea1aa4900a99       This Is The Life  \n",
       "2  feecff58-8ee2-4a7f-ac23-dc8ce7925286     Wish You Were Here  \n",
       "3  2d982a74-a21a-4714-9d81-405ede915053       Comfortably Numb  \n",
       "4  44135d7f-f5d6-4ef9-8518-ed11f5b705e7                    One  "
      ]
     },
     "execution_count": 5,
     "metadata": {},
     "output_type": "execute_result"
    }
   ],
   "source": [
    "listen_df.head()"
   ]
  },
  {
   "cell_type": "code",
   "execution_count": 6,
   "metadata": {
    "collapsed": false
   },
   "outputs": [
    {
     "data": {
      "text/plain": [
       "10"
      ]
     },
     "execution_count": 6,
     "metadata": {},
     "output_type": "execute_result"
    }
   ],
   "source": [
    "listen_df.u_id.nunique()"
   ]
  },
  {
   "cell_type": "code",
   "execution_count": 7,
   "metadata": {
    "collapsed": false
   },
   "outputs": [
    {
     "data": {
      "text/plain": [
       "182"
      ]
     },
     "execution_count": 7,
     "metadata": {},
     "output_type": "execute_result"
    }
   ],
   "source": [
    "listen_df.track_id.nunique()"
   ]
  },
  {
   "cell_type": "markdown",
   "metadata": {},
   "source": [
    "# 2. Topic Modeilng - LDA"
   ]
  },
  {
   "cell_type": "code",
   "execution_count": 8,
   "metadata": {
    "collapsed": false
   },
   "outputs": [
    {
     "data": {
      "text/plain": [
       "<lda.lda.LDA at 0x2af8a7ebc18>"
      ]
     },
     "execution_count": 8,
     "metadata": {},
     "output_type": "execute_result"
    }
   ],
   "source": [
    "LDAModel = lda.LDA(n_topics=30)\n",
    "LDAModel.fit(tracktag_m.astype(int))"
   ]
  },
  {
   "cell_type": "code",
   "execution_count": 9,
   "metadata": {
    "collapsed": true
   },
   "outputs": [],
   "source": [
    "tracktopic_m = LDAModel.doc_topic_\n",
    "topictag_m = LDAModel.topic_word_"
   ]
  },
  {
   "cell_type": "code",
   "execution_count": 10,
   "metadata": {
    "collapsed": false
   },
   "outputs": [
    {
     "name": "stdout",
     "output_type": "stream",
     "text": [
      "Topic 1, metal,alternative metal,nu metal,soundtrack,rock,deftones,alternative,hard rock,system of a down,queen of the damned\n",
      "Topic 2, beautiful,love,mellow,sad,melancholic,indie,melancholy,romantic,shoegaze,ballad\n",
      "Topic 3, alternative,rock,emo,evanescence,sad,melancholy,one tree hill,alternative rock,epic,emotional\n",
      "Topic 4, folk,indie,singer-songwriter,indie folk,acoustic,happy,comedy,gypsy,alternative,anti-folk\n",
      "Topic 5, electronic,electronica,dance,new rave,electro,indie,british,electropop,indietronica,electroclash\n",
      "Topic 6, gothic,industrial,gothic rock,electronic,female vocalists,synth-rock,darkwave,synthpop,gothic metal,synth rock\n",
      "Topic 7, hip-hop,electronic,dance,electronica,electro,crunk,alternative,pop,electro rap,richman\n",
      "Topic 8, rock,alternative,alternative rock,emo,one tree hill,jimmy eat world,indie,love,awesome,muse\n",
      "Topic 9, placebo,alternative,british,indie,britpop,rock,heard on pandora,indie rock,modern rock,all time favourites\n",
      "Topic 10, heavy metal,hard rock,metal,rock,speed metal,motorhead,classic rock,power metal,nwobhm,rock n roll\n",
      "Topic 11, english,60s,catchy,60's,pop,oldies,greatest songs ever,rock,beach,1960s\n",
      "Topic 12, classic rock,rock,60s,the beatles,british,pop,beatles,oldies,psychedelic,classic\n",
      "Topic 13, progressive rock,psychedelic,psychedelic rock,rock,pink floyd,progressive,british,70s,led zeppelin,art rock\n",
      "Topic 14, industrial,industrial rock,industrial metal,electronic,nin,nine inch nails,trent reznor,rock,cover,hard rock\n",
      "Topic 15, rock,indie rock,indie,alternative,alternative rock,u2,the killers,favorites,00s,pop\n",
      "Topic 16, chillout,trip-hop,electronic,the best,downtempo,female vocalists,canadian,chill,broken social scene,electronica\n",
      "Topic 17, pop,80s,synthpop,electronic,new wave,country,dance,taylor swift,depeche mode,synth pop\n",
      "Topic 18, soundtrack,halloween,film music,tango,crunk rock,balkan,christian rock,tarantino,party music,crunk\n",
      "Topic 19, acoustic,instrumental,post-rock,indian burial ground music,icelandic,milow,roots,aussie,heard on pandora,guitar\n",
      "Topic 20, doom metal,traditional doom metal,march,classic rock,embrace chaos,rocking,comedy,feelgood tracks,thirteenth step,heavy fucking metal\n",
      "Topic 21, hip hop,hip-hop,german,hiphop,rap,german hiphop,deutsch,deutscher hip hop,hallo,stoned\n",
      "Topic 22, rock,alternative rock,alternative,90s,seen live,grunge,favorites,00s,awesome,favourite songs\n",
      "Topic 23, 60s,pop,oldies,classic rock,rock,surf,beach boys,surf rock,summer,the beach boys\n",
      "Topic 24, ambient,instrumental,post-rock,awesome,summer,electronic rock,electro-rock-pop,jams,head automatica,experimental\n",
      "Topic 25, indie,alternative,rock,indie rock,favorite songs,indie-rock,art rock,songs that deserve to be tagged yet can not be sufficiently described in a short manner,pop,favourite songs\n",
      "Topic 26, pop,dance,britney spears,female vocalists,rnb,rihanna,catchy,00s,sexy,lady gaga\n",
      "Topic 27, female vocalists,indie,pop,singer-songwriter,beautiful,female vocalist,alternative,mellow,piano,female\n",
      "Topic 28, 60s,summer,oldies,california,pop,american,surf,beach boys,best song ever,male vocalists\n",
      "Topic 29, industrial,instrumental,electronic,classic british metal,classic british hard rock,classic british rock,british rock,british hard rock,classic hard rock,new wave of british heavy metal\n",
      "Topic 30, rock,alternative,cover,alternative rock,punk,polish punk,blues rock,hard rock,southern rock,punk rock\n"
     ]
    }
   ],
   "source": [
    "n_top_words = 10\n",
    "for i, topic_dist in enumerate(topictag_m):\n",
    "    topic_words = np.array(tag)[np.argsort(topic_dist)][:-(n_top_words + 1):-1]\n",
    "    print('Topic {}, {}'.format(i+1, ','.join(topic_words)))"
   ]
  },
  {
   "cell_type": "code",
   "execution_count": 11,
   "metadata": {
    "collapsed": false
   },
   "outputs": [
    {
     "data": {
      "text/plain": [
       "(182, 30)"
      ]
     },
     "execution_count": 11,
     "metadata": {},
     "output_type": "execute_result"
    }
   ],
   "source": [
    "tracktopic_m.shape"
   ]
  },
  {
   "cell_type": "code",
   "execution_count": 12,
   "metadata": {
    "collapsed": false
   },
   "outputs": [
    {
     "data": {
      "text/plain": [
       "(30, 4092)"
      ]
     },
     "execution_count": 12,
     "metadata": {},
     "output_type": "execute_result"
    }
   ],
   "source": [
    "topictag_m.shape"
   ]
  },
  {
   "cell_type": "markdown",
   "metadata": {},
   "source": [
    "# 3. Recommendation"
   ]
  },
  {
   "cell_type": "markdown",
   "metadata": {},
   "source": [
    "## Item-based Collaborative Filtering"
   ]
  },
  {
   "cell_type": "code",
   "execution_count": 13,
   "metadata": {
    "collapsed": false
   },
   "outputs": [],
   "source": [
    "user, item, rating_m = ratingMatrix(listen_df)\n",
    "item_sim_m = simCosMatrix(rating_m, axis=1)"
   ]
  },
  {
   "cell_type": "code",
   "execution_count": 15,
   "metadata": {
    "collapsed": false
   },
   "outputs": [
    {
     "name": "stdout",
     "output_type": "stream",
     "text": [
      "Select neighborhood items...\n",
      "Compute predictions...\n",
      "Recommend Top-n item...\n"
     ]
    }
   ],
   "source": [
    "score_cf_m, result_cf_df = recommenderCF(rating_m, item_sim_m, user, item, cf_type='item', n=10, k=182)"
   ]
  },
  {
   "cell_type": "markdown",
   "metadata": {},
   "source": [
    "## Topic-based Content-based Filtering"
   ]
  },
  {
   "cell_type": "code",
   "execution_count": 16,
   "metadata": {
    "collapsed": false
   },
   "outputs": [
    {
     "name": "stdout",
     "output_type": "stream",
     "text": [
      "Select neighborhood items...\n",
      "Compute predictions...\n",
      "Recommend Top-n item...\n"
     ]
    }
   ],
   "source": [
    "topic_sim_m = simCosMatrix(tracktopic_m, axis=0)\n",
    "score_cbf_m, result_cbf_df = recommenderCF(rating_m, topic_sim_m, user, item, cf_type='item', n=10, k=182)"
   ]
  },
  {
   "cell_type": "markdown",
   "metadata": {
    "collapsed": true
   },
   "source": [
    "## Hybird Recommendation"
   ]
  },
  {
   "cell_type": "code",
   "execution_count": 17,
   "metadata": {
    "collapsed": false
   },
   "outputs": [],
   "source": [
    "score_hybrid_m = hybridScore(score_cf_m, score_cbf_m, c=0.1)\n",
    "result_hybrid_df = topnList(score_hybrid_m, user, item, 10)"
   ]
  },
  {
   "cell_type": "markdown",
   "metadata": {},
   "source": [
    "# 4. Top-n Recommendation List"
   ]
  },
  {
   "cell_type": "markdown",
   "metadata": {},
   "source": [
    "## Item-based Collaborative Filtering"
   ]
  },
  {
   "cell_type": "code",
   "execution_count": 18,
   "metadata": {
    "collapsed": true
   },
   "outputs": [],
   "source": [
    "result_cf_df = result_cf_df.merge(track_df, on='track_id').sort_values(['u_id', 'rank'])"
   ]
  },
  {
   "cell_type": "code",
   "execution_count": 19,
   "metadata": {
    "collapsed": false,
    "scrolled": true
   },
   "outputs": [
    {
     "data": {
      "text/html": [
       "<div>\n",
       "<table border=\"1\" class=\"dataframe\">\n",
       "  <thead>\n",
       "    <tr style=\"text-align: right;\">\n",
       "      <th></th>\n",
       "      <th>u_id</th>\n",
       "      <th>track_id</th>\n",
       "      <th>score</th>\n",
       "      <th>rank</th>\n",
       "      <th>artist_id</th>\n",
       "      <th>artist_name</th>\n",
       "      <th>track_name</th>\n",
       "    </tr>\n",
       "  </thead>\n",
       "  <tbody>\n",
       "    <tr>\n",
       "      <th>14</th>\n",
       "      <td>user_000524</td>\n",
       "      <td>7ea0d658-b2a9-4a8d-a346-48fb2b8acf6a</td>\n",
       "      <td>0.099504</td>\n",
       "      <td>1</td>\n",
       "      <td>b10bbbfc-cf9e-42e0-be17-e2c3e1d2600d</td>\n",
       "      <td>The Beatles</td>\n",
       "      <td>Here Comes The Sun</td>\n",
       "    </tr>\n",
       "    <tr>\n",
       "      <th>15</th>\n",
       "      <td>user_000524</td>\n",
       "      <td>09a0040e-fd69-4dc9-aa1f-22311108a964</td>\n",
       "      <td>0.099504</td>\n",
       "      <td>2</td>\n",
       "      <td>3ac2a4a2-52b3-498b-bbc8-31443c68dfe0</td>\n",
       "      <td>Missy Higgins</td>\n",
       "      <td>The River</td>\n",
       "    </tr>\n",
       "    <tr>\n",
       "      <th>16</th>\n",
       "      <td>user_000524</td>\n",
       "      <td>210005fc-3b04-4112-9b39-5741244f71c7</td>\n",
       "      <td>0.099504</td>\n",
       "      <td>3</td>\n",
       "      <td>b10bbbfc-cf9e-42e0-be17-e2c3e1d2600d</td>\n",
       "      <td>The Beatles</td>\n",
       "      <td>Maxwell'S Silver Hammer</td>\n",
       "    </tr>\n",
       "    <tr>\n",
       "      <th>17</th>\n",
       "      <td>user_000524</td>\n",
       "      <td>21bd2851-63a2-455b-800b-ea1aa4900a99</td>\n",
       "      <td>0.099504</td>\n",
       "      <td>4</td>\n",
       "      <td>6aa40207-fec8-43a7-991d-b872a42def05</td>\n",
       "      <td>Amy Macdonald</td>\n",
       "      <td>This Is The Life</td>\n",
       "    </tr>\n",
       "    <tr>\n",
       "      <th>18</th>\n",
       "      <td>user_000524</td>\n",
       "      <td>97a521ad-9036-408b-9572-e1d63b872e06</td>\n",
       "      <td>0.099504</td>\n",
       "      <td>5</td>\n",
       "      <td>7952b266-9fd4-4a09-a324-7dc84f11b5fc</td>\n",
       "      <td>The John Butler Trio</td>\n",
       "      <td>What You Want</td>\n",
       "    </tr>\n",
       "    <tr>\n",
       "      <th>19</th>\n",
       "      <td>user_000524</td>\n",
       "      <td>94a2565f-9dd3-46bd-a70f-80c41224f561</td>\n",
       "      <td>0.099504</td>\n",
       "      <td>6</td>\n",
       "      <td>a3cb23fc-acd3-4ce0-8f36-1e5aa6a18432</td>\n",
       "      <td>U2</td>\n",
       "      <td>Stay (Faraway, So Close!)</td>\n",
       "    </tr>\n",
       "    <tr>\n",
       "      <th>20</th>\n",
       "      <td>user_000524</td>\n",
       "      <td>171ad8ee-51ae-48c3-ae30-35436b2411af</td>\n",
       "      <td>0.099504</td>\n",
       "      <td>7</td>\n",
       "      <td>a4e34a43-d8de-48eb-9ec6-349b62756590</td>\n",
       "      <td>T?l?phone</td>\n",
       "      <td>Un Autre Monde</td>\n",
       "    </tr>\n",
       "    <tr>\n",
       "      <th>21</th>\n",
       "      <td>user_000524</td>\n",
       "      <td>8d69d3fc-5e0e-4c84-97eb-1891ca0d66e8</td>\n",
       "      <td>0.099504</td>\n",
       "      <td>8</td>\n",
       "      <td>a41ac10f-0a56-4672-9161-b83f9b223559</td>\n",
       "      <td>Van Morrison</td>\n",
       "      <td>Brown Eyed Girl</td>\n",
       "    </tr>\n",
       "    <tr>\n",
       "      <th>22</th>\n",
       "      <td>user_000524</td>\n",
       "      <td>8b6d9029-1990-4660-bd57-24b5bc0fb626</td>\n",
       "      <td>0.099504</td>\n",
       "      <td>9</td>\n",
       "      <td>d4d17620-fd97-4574-92a8-a2cb7e72ce42</td>\n",
       "      <td>The Verve</td>\n",
       "      <td>Bitter Sweet Symphony</td>\n",
       "    </tr>\n",
       "    <tr>\n",
       "      <th>23</th>\n",
       "      <td>user_000524</td>\n",
       "      <td>ba7ed38e-f5b0-438c-9df3-d5e061c353dd</td>\n",
       "      <td>0.099504</td>\n",
       "      <td>10</td>\n",
       "      <td>7952b266-9fd4-4a09-a324-7dc84f11b5fc</td>\n",
       "      <td>The John Butler Trio</td>\n",
       "      <td>Ocean</td>\n",
       "    </tr>\n",
       "  </tbody>\n",
       "</table>\n",
       "</div>"
      ],
      "text/plain": [
       "           u_id                              track_id     score  rank  \\\n",
       "14  user_000524  7ea0d658-b2a9-4a8d-a346-48fb2b8acf6a  0.099504     1   \n",
       "15  user_000524  09a0040e-fd69-4dc9-aa1f-22311108a964  0.099504     2   \n",
       "16  user_000524  210005fc-3b04-4112-9b39-5741244f71c7  0.099504     3   \n",
       "17  user_000524  21bd2851-63a2-455b-800b-ea1aa4900a99  0.099504     4   \n",
       "18  user_000524  97a521ad-9036-408b-9572-e1d63b872e06  0.099504     5   \n",
       "19  user_000524  94a2565f-9dd3-46bd-a70f-80c41224f561  0.099504     6   \n",
       "20  user_000524  171ad8ee-51ae-48c3-ae30-35436b2411af  0.099504     7   \n",
       "21  user_000524  8d69d3fc-5e0e-4c84-97eb-1891ca0d66e8  0.099504     8   \n",
       "22  user_000524  8b6d9029-1990-4660-bd57-24b5bc0fb626  0.099504     9   \n",
       "23  user_000524  ba7ed38e-f5b0-438c-9df3-d5e061c353dd  0.099504    10   \n",
       "\n",
       "                               artist_id           artist_name  \\\n",
       "14  b10bbbfc-cf9e-42e0-be17-e2c3e1d2600d           The Beatles   \n",
       "15  3ac2a4a2-52b3-498b-bbc8-31443c68dfe0         Missy Higgins   \n",
       "16  b10bbbfc-cf9e-42e0-be17-e2c3e1d2600d           The Beatles   \n",
       "17  6aa40207-fec8-43a7-991d-b872a42def05         Amy Macdonald   \n",
       "18  7952b266-9fd4-4a09-a324-7dc84f11b5fc  The John Butler Trio   \n",
       "19  a3cb23fc-acd3-4ce0-8f36-1e5aa6a18432                    U2   \n",
       "20  a4e34a43-d8de-48eb-9ec6-349b62756590             T?l?phone   \n",
       "21  a41ac10f-0a56-4672-9161-b83f9b223559          Van Morrison   \n",
       "22  d4d17620-fd97-4574-92a8-a2cb7e72ce42             The Verve   \n",
       "23  7952b266-9fd4-4a09-a324-7dc84f11b5fc  The John Butler Trio   \n",
       "\n",
       "                   track_name  \n",
       "14         Here Comes The Sun  \n",
       "15                  The River  \n",
       "16    Maxwell'S Silver Hammer  \n",
       "17           This Is The Life  \n",
       "18              What You Want  \n",
       "19  Stay (Faraway, So Close!)  \n",
       "20             Un Autre Monde  \n",
       "21            Brown Eyed Girl  \n",
       "22      Bitter Sweet Symphony  \n",
       "23                      Ocean  "
      ]
     },
     "execution_count": 19,
     "metadata": {},
     "output_type": "execute_result"
    }
   ],
   "source": [
    "result_cf_df[result_cf_df['u_id'] == \"user_000524\"]"
   ]
  },
  {
   "cell_type": "markdown",
   "metadata": {},
   "source": [
    "## Topic-based Content-based Filtering"
   ]
  },
  {
   "cell_type": "code",
   "execution_count": 20,
   "metadata": {
    "collapsed": true
   },
   "outputs": [],
   "source": [
    "result_cbf_df = result_cbf_df.merge(track_df, on='track_id').sort_values(['u_id', 'rank'])"
   ]
  },
  {
   "cell_type": "code",
   "execution_count": 21,
   "metadata": {
    "collapsed": false
   },
   "outputs": [
    {
     "data": {
      "text/html": [
       "<div>\n",
       "<table border=\"1\" class=\"dataframe\">\n",
       "  <thead>\n",
       "    <tr style=\"text-align: right;\">\n",
       "      <th></th>\n",
       "      <th>u_id</th>\n",
       "      <th>track_id</th>\n",
       "      <th>score</th>\n",
       "      <th>rank</th>\n",
       "      <th>artist_id</th>\n",
       "      <th>artist_name</th>\n",
       "      <th>track_name</th>\n",
       "    </tr>\n",
       "  </thead>\n",
       "  <tbody>\n",
       "    <tr>\n",
       "      <th>74</th>\n",
       "      <td>user_000524</td>\n",
       "      <td>5b1e09e5-5f6f-447f-815b-57607acf6339</td>\n",
       "      <td>0.225121</td>\n",
       "      <td>1</td>\n",
       "      <td>8c9200b8-8e05-41d5-836e-44a37905560e</td>\n",
       "      <td>Hadouken!</td>\n",
       "      <td>Get Smashed Gate Crash</td>\n",
       "    </tr>\n",
       "    <tr>\n",
       "      <th>76</th>\n",
       "      <td>user_000524</td>\n",
       "      <td>09a0040e-fd69-4dc9-aa1f-22311108a964</td>\n",
       "      <td>0.220694</td>\n",
       "      <td>2</td>\n",
       "      <td>3ac2a4a2-52b3-498b-bbc8-31443c68dfe0</td>\n",
       "      <td>Missy Higgins</td>\n",
       "      <td>The River</td>\n",
       "    </tr>\n",
       "    <tr>\n",
       "      <th>78</th>\n",
       "      <td>user_000524</td>\n",
       "      <td>08ddb3fb-8f4c-4ea2-adaf-06d7df53e155</td>\n",
       "      <td>0.208642</td>\n",
       "      <td>3</td>\n",
       "      <td>e795e03d-b5d5-4a5f-834d-162cfb308a2c</td>\n",
       "      <td>Pj Harvey</td>\n",
       "      <td>This Is Love</td>\n",
       "    </tr>\n",
       "    <tr>\n",
       "      <th>15</th>\n",
       "      <td>user_000524</td>\n",
       "      <td>5447420a-88fd-4f5c-a293-bda90cbc0f44</td>\n",
       "      <td>0.204960</td>\n",
       "      <td>4</td>\n",
       "      <td>89618a45-ff4a-4e5f-942e-3ef93c8c555c</td>\n",
       "      <td>Witchfinder General</td>\n",
       "      <td>Satan'S Children (Live)</td>\n",
       "    </tr>\n",
       "    <tr>\n",
       "      <th>79</th>\n",
       "      <td>user_000524</td>\n",
       "      <td>06d6f9ad-401b-4215-8304-e7af3f3692b4</td>\n",
       "      <td>0.191193</td>\n",
       "      <td>5</td>\n",
       "      <td>b7ffd2af-418f-4be2-bdd1-22f8b48613da</td>\n",
       "      <td>Nine Inch Nails</td>\n",
       "      <td>Wish</td>\n",
       "    </tr>\n",
       "    <tr>\n",
       "      <th>80</th>\n",
       "      <td>user_000524</td>\n",
       "      <td>910a40bb-3b77-48cb-b978-77eae3d0398f</td>\n",
       "      <td>0.191093</td>\n",
       "      <td>6</td>\n",
       "      <td>efef848b-63e4-4323-8ef7-69a48fbdd51d</td>\n",
       "      <td>4 Non Blondes</td>\n",
       "      <td>What'S Up</td>\n",
       "    </tr>\n",
       "    <tr>\n",
       "      <th>81</th>\n",
       "      <td>user_000524</td>\n",
       "      <td>9839b527-a36d-4efb-8682-526601be5131</td>\n",
       "      <td>0.165318</td>\n",
       "      <td>7</td>\n",
       "      <td>8ca01f46-53ac-4af2-8516-55a909c0905e</td>\n",
       "      <td>My Bloody Valentine</td>\n",
       "      <td>Sometimes</td>\n",
       "    </tr>\n",
       "    <tr>\n",
       "      <th>82</th>\n",
       "      <td>user_000524</td>\n",
       "      <td>9391e18a-a0f4-443c-9343-69af2849abd5</td>\n",
       "      <td>0.153321</td>\n",
       "      <td>8</td>\n",
       "      <td>95e1ead9-4d31-4808-a7ac-32c3614c116b</td>\n",
       "      <td>The Killers</td>\n",
       "      <td>Daddy'S Eyes</td>\n",
       "    </tr>\n",
       "    <tr>\n",
       "      <th>62</th>\n",
       "      <td>user_000524</td>\n",
       "      <td>924de9ff-b23a-40ef-ae20-153d42472e6d</td>\n",
       "      <td>0.152915</td>\n",
       "      <td>9</td>\n",
       "      <td>847e8284-8582-4b0e-9c26-b042a4f49e57</td>\n",
       "      <td>Placebo</td>\n",
       "      <td>Hare Krishna</td>\n",
       "    </tr>\n",
       "    <tr>\n",
       "      <th>83</th>\n",
       "      <td>user_000524</td>\n",
       "      <td>910e91d3-e711-4b49-9de4-0caf5c536174</td>\n",
       "      <td>0.152220</td>\n",
       "      <td>10</td>\n",
       "      <td>89618a45-ff4a-4e5f-942e-3ef93c8c555c</td>\n",
       "      <td>Witchfinder General</td>\n",
       "      <td>Soviet Invasion</td>\n",
       "    </tr>\n",
       "  </tbody>\n",
       "</table>\n",
       "</div>"
      ],
      "text/plain": [
       "           u_id                              track_id     score  rank  \\\n",
       "74  user_000524  5b1e09e5-5f6f-447f-815b-57607acf6339  0.225121     1   \n",
       "76  user_000524  09a0040e-fd69-4dc9-aa1f-22311108a964  0.220694     2   \n",
       "78  user_000524  08ddb3fb-8f4c-4ea2-adaf-06d7df53e155  0.208642     3   \n",
       "15  user_000524  5447420a-88fd-4f5c-a293-bda90cbc0f44  0.204960     4   \n",
       "79  user_000524  06d6f9ad-401b-4215-8304-e7af3f3692b4  0.191193     5   \n",
       "80  user_000524  910a40bb-3b77-48cb-b978-77eae3d0398f  0.191093     6   \n",
       "81  user_000524  9839b527-a36d-4efb-8682-526601be5131  0.165318     7   \n",
       "82  user_000524  9391e18a-a0f4-443c-9343-69af2849abd5  0.153321     8   \n",
       "62  user_000524  924de9ff-b23a-40ef-ae20-153d42472e6d  0.152915     9   \n",
       "83  user_000524  910e91d3-e711-4b49-9de4-0caf5c536174  0.152220    10   \n",
       "\n",
       "                               artist_id          artist_name  \\\n",
       "74  8c9200b8-8e05-41d5-836e-44a37905560e            Hadouken!   \n",
       "76  3ac2a4a2-52b3-498b-bbc8-31443c68dfe0        Missy Higgins   \n",
       "78  e795e03d-b5d5-4a5f-834d-162cfb308a2c            Pj Harvey   \n",
       "15  89618a45-ff4a-4e5f-942e-3ef93c8c555c  Witchfinder General   \n",
       "79  b7ffd2af-418f-4be2-bdd1-22f8b48613da      Nine Inch Nails   \n",
       "80  efef848b-63e4-4323-8ef7-69a48fbdd51d        4 Non Blondes   \n",
       "81  8ca01f46-53ac-4af2-8516-55a909c0905e  My Bloody Valentine   \n",
       "82  95e1ead9-4d31-4808-a7ac-32c3614c116b          The Killers   \n",
       "62  847e8284-8582-4b0e-9c26-b042a4f49e57              Placebo   \n",
       "83  89618a45-ff4a-4e5f-942e-3ef93c8c555c  Witchfinder General   \n",
       "\n",
       "                 track_name  \n",
       "74   Get Smashed Gate Crash  \n",
       "76                The River  \n",
       "78             This Is Love  \n",
       "15  Satan'S Children (Live)  \n",
       "79                     Wish  \n",
       "80                What'S Up  \n",
       "81                Sometimes  \n",
       "82             Daddy'S Eyes  \n",
       "62             Hare Krishna  \n",
       "83          Soviet Invasion  "
      ]
     },
     "execution_count": 21,
     "metadata": {},
     "output_type": "execute_result"
    }
   ],
   "source": [
    "result_cbf_df[result_cbf_df['u_id'] == \"user_000524\"]"
   ]
  },
  {
   "cell_type": "markdown",
   "metadata": {},
   "source": [
    "## Hybird Recommendation"
   ]
  },
  {
   "cell_type": "code",
   "execution_count": 22,
   "metadata": {
    "collapsed": true
   },
   "outputs": [],
   "source": [
    "result_hybrid_df = result_hybrid_df.merge(track_df, on='track_id').sort_values(['u_id', 'rank'])"
   ]
  },
  {
   "cell_type": "code",
   "execution_count": 23,
   "metadata": {
    "collapsed": false
   },
   "outputs": [
    {
     "data": {
      "text/html": [
       "<div>\n",
       "<table border=\"1\" class=\"dataframe\">\n",
       "  <thead>\n",
       "    <tr style=\"text-align: right;\">\n",
       "      <th></th>\n",
       "      <th>u_id</th>\n",
       "      <th>track_id</th>\n",
       "      <th>score</th>\n",
       "      <th>rank</th>\n",
       "      <th>artist_id</th>\n",
       "      <th>artist_name</th>\n",
       "      <th>track_name</th>\n",
       "    </tr>\n",
       "  </thead>\n",
       "  <tbody>\n",
       "    <tr>\n",
       "      <th>74</th>\n",
       "      <td>user_000524</td>\n",
       "      <td>5b1e09e5-5f6f-447f-815b-57607acf6339</td>\n",
       "      <td>1.000000</td>\n",
       "      <td>1</td>\n",
       "      <td>8c9200b8-8e05-41d5-836e-44a37905560e</td>\n",
       "      <td>Hadouken!</td>\n",
       "      <td>Get Smashed Gate Crash</td>\n",
       "    </tr>\n",
       "    <tr>\n",
       "      <th>76</th>\n",
       "      <td>user_000524</td>\n",
       "      <td>09a0040e-fd69-4dc9-aa1f-22311108a964</td>\n",
       "      <td>0.998034</td>\n",
       "      <td>2</td>\n",
       "      <td>3ac2a4a2-52b3-498b-bbc8-31443c68dfe0</td>\n",
       "      <td>Missy Higgins</td>\n",
       "      <td>The River</td>\n",
       "    </tr>\n",
       "    <tr>\n",
       "      <th>78</th>\n",
       "      <td>user_000524</td>\n",
       "      <td>08ddb3fb-8f4c-4ea2-adaf-06d7df53e155</td>\n",
       "      <td>0.992680</td>\n",
       "      <td>3</td>\n",
       "      <td>e795e03d-b5d5-4a5f-834d-162cfb308a2c</td>\n",
       "      <td>Pj Harvey</td>\n",
       "      <td>This Is Love</td>\n",
       "    </tr>\n",
       "    <tr>\n",
       "      <th>79</th>\n",
       "      <td>user_000524</td>\n",
       "      <td>06d6f9ad-401b-4215-8304-e7af3f3692b4</td>\n",
       "      <td>0.984929</td>\n",
       "      <td>4</td>\n",
       "      <td>b7ffd2af-418f-4be2-bdd1-22f8b48613da</td>\n",
       "      <td>Nine Inch Nails</td>\n",
       "      <td>Wish</td>\n",
       "    </tr>\n",
       "    <tr>\n",
       "      <th>80</th>\n",
       "      <td>user_000524</td>\n",
       "      <td>910a40bb-3b77-48cb-b978-77eae3d0398f</td>\n",
       "      <td>0.984885</td>\n",
       "      <td>5</td>\n",
       "      <td>efef848b-63e4-4323-8ef7-69a48fbdd51d</td>\n",
       "      <td>4 Non Blondes</td>\n",
       "      <td>What'S Up</td>\n",
       "    </tr>\n",
       "    <tr>\n",
       "      <th>81</th>\n",
       "      <td>user_000524</td>\n",
       "      <td>9839b527-a36d-4efb-8682-526601be5131</td>\n",
       "      <td>0.973435</td>\n",
       "      <td>6</td>\n",
       "      <td>8ca01f46-53ac-4af2-8516-55a909c0905e</td>\n",
       "      <td>My Bloody Valentine</td>\n",
       "      <td>Sometimes</td>\n",
       "    </tr>\n",
       "    <tr>\n",
       "      <th>82</th>\n",
       "      <td>user_000524</td>\n",
       "      <td>9391e18a-a0f4-443c-9343-69af2849abd5</td>\n",
       "      <td>0.968106</td>\n",
       "      <td>7</td>\n",
       "      <td>95e1ead9-4d31-4808-a7ac-32c3614c116b</td>\n",
       "      <td>The Killers</td>\n",
       "      <td>Daddy'S Eyes</td>\n",
       "    </tr>\n",
       "    <tr>\n",
       "      <th>83</th>\n",
       "      <td>user_000524</td>\n",
       "      <td>924de9ff-b23a-40ef-ae20-153d42472e6d</td>\n",
       "      <td>0.967926</td>\n",
       "      <td>8</td>\n",
       "      <td>847e8284-8582-4b0e-9c26-b042a4f49e57</td>\n",
       "      <td>Placebo</td>\n",
       "      <td>Hare Krishna</td>\n",
       "    </tr>\n",
       "    <tr>\n",
       "      <th>84</th>\n",
       "      <td>user_000524</td>\n",
       "      <td>290dcfd6-827e-4864-b71a-553c45ba526b</td>\n",
       "      <td>0.966527</td>\n",
       "      <td>9</td>\n",
       "      <td>99acd557-c4e2-4086-9be9-85f57184dadc</td>\n",
       "      <td>O.S.T.R.</td>\n",
       "      <td>Pocz?tek...</td>\n",
       "    </tr>\n",
       "    <tr>\n",
       "      <th>85</th>\n",
       "      <td>user_000524</td>\n",
       "      <td>1e21e59e-ae7c-4658-bfe4-1e0c749d19c4</td>\n",
       "      <td>0.965959</td>\n",
       "      <td>10</td>\n",
       "      <td>c3f28da8-662d-4f09-bdc7-3084bf685930</td>\n",
       "      <td>Iron &amp; Wine</td>\n",
       "      <td>Free Until They Cut Me Down</td>\n",
       "    </tr>\n",
       "  </tbody>\n",
       "</table>\n",
       "</div>"
      ],
      "text/plain": [
       "           u_id                              track_id     score  rank  \\\n",
       "74  user_000524  5b1e09e5-5f6f-447f-815b-57607acf6339  1.000000     1   \n",
       "76  user_000524  09a0040e-fd69-4dc9-aa1f-22311108a964  0.998034     2   \n",
       "78  user_000524  08ddb3fb-8f4c-4ea2-adaf-06d7df53e155  0.992680     3   \n",
       "79  user_000524  06d6f9ad-401b-4215-8304-e7af3f3692b4  0.984929     4   \n",
       "80  user_000524  910a40bb-3b77-48cb-b978-77eae3d0398f  0.984885     5   \n",
       "81  user_000524  9839b527-a36d-4efb-8682-526601be5131  0.973435     6   \n",
       "82  user_000524  9391e18a-a0f4-443c-9343-69af2849abd5  0.968106     7   \n",
       "83  user_000524  924de9ff-b23a-40ef-ae20-153d42472e6d  0.967926     8   \n",
       "84  user_000524  290dcfd6-827e-4864-b71a-553c45ba526b  0.966527     9   \n",
       "85  user_000524  1e21e59e-ae7c-4658-bfe4-1e0c749d19c4  0.965959    10   \n",
       "\n",
       "                               artist_id          artist_name  \\\n",
       "74  8c9200b8-8e05-41d5-836e-44a37905560e            Hadouken!   \n",
       "76  3ac2a4a2-52b3-498b-bbc8-31443c68dfe0        Missy Higgins   \n",
       "78  e795e03d-b5d5-4a5f-834d-162cfb308a2c            Pj Harvey   \n",
       "79  b7ffd2af-418f-4be2-bdd1-22f8b48613da      Nine Inch Nails   \n",
       "80  efef848b-63e4-4323-8ef7-69a48fbdd51d        4 Non Blondes   \n",
       "81  8ca01f46-53ac-4af2-8516-55a909c0905e  My Bloody Valentine   \n",
       "82  95e1ead9-4d31-4808-a7ac-32c3614c116b          The Killers   \n",
       "83  847e8284-8582-4b0e-9c26-b042a4f49e57              Placebo   \n",
       "84  99acd557-c4e2-4086-9be9-85f57184dadc             O.S.T.R.   \n",
       "85  c3f28da8-662d-4f09-bdc7-3084bf685930          Iron & Wine   \n",
       "\n",
       "                     track_name  \n",
       "74       Get Smashed Gate Crash  \n",
       "76                    The River  \n",
       "78                 This Is Love  \n",
       "79                         Wish  \n",
       "80                    What'S Up  \n",
       "81                    Sometimes  \n",
       "82                 Daddy'S Eyes  \n",
       "83                 Hare Krishna  \n",
       "84                  Pocz?tek...  \n",
       "85  Free Until They Cut Me Down  "
      ]
     },
     "execution_count": 23,
     "metadata": {},
     "output_type": "execute_result"
    }
   ],
   "source": [
    "result_hybrid_df[result_hybrid_df['u_id'] == \"user_000524\"]"
   ]
  }
 ],
 "metadata": {
  "kernelspec": {
   "display_name": "Python 3",
   "language": "python",
   "name": "python3"
  },
  "language_info": {
   "codemirror_mode": {
    "name": "ipython",
    "version": 3
   },
   "file_extension": ".py",
   "mimetype": "text/x-python",
   "name": "python",
   "nbconvert_exporter": "python",
   "pygments_lexer": "ipython3",
   "version": "3.5.1"
  }
 },
 "nbformat": 4,
 "nbformat_minor": 0
}
